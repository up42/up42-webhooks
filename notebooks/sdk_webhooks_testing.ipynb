{
 "cells": [
  {
   "cell_type": "markdown",
   "id": "97d10bfc-c424-40d3-a2e2-6ff5270434ba",
   "metadata": {},
   "source": [
    "# Working with UP42 webhooks using the SDK\n",
    "\n",
    "In the previous [article](https://up42.com/blog/tech/first-step-into-webhooks-no-code-required) we used the UP42 [console](https://console.up42.com) to manage webhooks. Now we use the [UP42 SDK](https://sdk.up42.com) to do.\n",
    "\n",
    "**N.B.**: Make sure you are using a version  **$\\ 0.22.0**. This is the version where support for webhooks was introduced."
   ]
  },
  {
   "cell_type": "markdown",
   "id": "034105a0-cb1e-403a-a5d0-3b6d39050d91",
   "metadata": {},
   "source": [
    "## Installing the UP42 Python SDK\n",
    "\n",
    "The module is called `up42`. Python **>= 3.8** is **required**.\n",
    "\n",
    " 1. Create a virtual environment.\n",
    "```bash\n",
    " mkvirtualenv --python=$(which python3) up42-py\n",
    "```\n",
    " 2. Activate the environment.\n",
    "```bash\n",
    " workon up42-py\n",
    "```\n",
    " 3. Install the module.\n",
    " ```bash\n",
    " pip install up42-py\n",
    " ```\n",
    " 4. Install Jupyter Lab.\n",
    "```bash\n",
    " pip install jupyterlab\n",
    " ```\n",
    " 5. Done.\n",
    " \n",
    "Now we can just import it."
   ]
  },
  {
   "cell_type": "code",
   "execution_count": null,
   "id": "5157b162-450f-4abe-9d26-a9ee91a8a3cd",
   "metadata": {},
   "outputs": [],
   "source": [
    "import up42"
   ]
  },
  {
   "cell_type": "markdown",
   "id": "1df6c436-bb5e-4681-9130-06f10d62445d",
   "metadata": {},
   "source": [
    "## Authenticate with project ID and project key\n",
    "The project API key and the project ID are read from a JSON file. This file has the following structure:\n",
    "```\n",
    "{\n",
    "  \"project_id\": \"<your-project-ID-here>\",\n",
    "  \"project_api_key\": \"<your-api-key-here>\"\n",
    "}\n",
    "```\n",
    "To find out how to obtain the project API key and project ID the please refer to the [documentation].(https://docs.up42.com/processing-platform/projects#developers)\n",
    "\n",
    "Reading the credentials from the JSON file `~/.up42/proj_default.json`."
   ]
  },
  {
   "cell_type": "code",
   "execution_count": null,
   "id": "7c2858a8-d012-46fe-9f54-7e9efa703e30",
   "metadata": {},
   "outputs": [],
   "source": [
    "from pathlib import Path\n",
    "\n",
    "project_config_file = Path.home() /  \".up42\" / \"proj_default.json\"\n",
    "up42.authenticate(cfg_file = project_config_file)"
   ]
  },
  {
   "cell_type": "markdown",
   "id": "7aa12ba5-7928-4c0d-ae7e-00efae03e581",
   "metadata": {},
   "source": [
    "## Getting the webhooks under your account\n",
    "\n",
    "We just invoke the [`get_webhooks`](https://sdk.up42.com/reference/webhooks-reference/) function (method)."
   ]
  },
  {
   "cell_type": "code",
   "execution_count": null,
   "id": "6d969ab2-c9a0-4b5a-ba15-10b13506fc75",
   "metadata": {},
   "outputs": [],
   "source": [
    "webhooks = up42.get_webhooks()"
   ]
  },
  {
   "cell_type": "markdown",
   "id": "515d2bcc-81f0-4d85-861a-7ddb604190b1",
   "metadata": {},
   "source": [
    "## Getting the (name, id) tuples\n",
    "\n",
    "We want now to manipulate a specific webhook. For that we build a list of `(<name>, <id>)` tuples for each webhook."
   ]
  },
  {
   "cell_type": "code",
   "execution_count": null,
   "id": "b5a6e775-3269-45b2-b12f-078884d0148a",
   "metadata": {},
   "outputs": [],
   "source": [
    "wh_pairs = list(map(lambda e: (e[\"name\"], e[\"id\"]), [w.info for w in webhooks]))"
   ]
  },
  {
   "cell_type": "code",
   "execution_count": null,
   "id": "534baa19-87a4-4ff7-9fbe-b9ff7c2d3eaa",
   "metadata": {},
   "outputs": [],
   "source": [
    "wh_pairs"
   ]
  },
  {
   "cell_type": "markdown",
   "id": "5aea424a-ebf3-4348-8f5b-181c6c622e22",
   "metadata": {},
   "source": [
    "We're **interested** in the webhook called *Jobs webhook example*."
   ]
  },
  {
   "cell_type": "code",
   "execution_count": null,
   "id": "eb52a3bd-87e4-4684-a2aa-f1c39914841e",
   "metadata": {},
   "outputs": [],
   "source": [
    "wh_pairs[-1]"
   ]
  },
  {
   "cell_type": "markdown",
   "id": "28b0cf5c-162b-4389-a84a-1fc903bad850",
   "metadata": {},
   "source": [
    "Now taking a closer look."
   ]
  },
  {
   "cell_type": "code",
   "execution_count": null,
   "id": "94cc066b-9820-47a1-ac09-bcc0feb84377",
   "metadata": {},
   "outputs": [],
   "source": [
    "current_wh = webhooks[-1]"
   ]
  },
  {
   "cell_type": "code",
   "execution_count": null,
   "id": "4074790a-ee42-401b-a0a8-f5413e58b7ec",
   "metadata": {},
   "outputs": [],
   "source": [
    "current_wh.__dict__"
   ]
  },
  {
   "cell_type": "markdown",
   "id": "5f1660d2-c5f7-4a74-b025-4fd28f7f50e2",
   "metadata": {},
   "source": [
    "Let us now see what methods we have available. We are going to use a small module with helper functions.\n",
    "\n",
    "We want to list all the non-magic methods that this class posesses. Somewhat similar to Julia's [methodswith](https://docs.julialang.org/en/v1/stdlib/InteractiveUtils/#InteractiveUtils.methodswith)."
   ]
  },
  {
   "cell_type": "code",
   "execution_count": null,
   "id": "0f12b623-218a-4c78-a210-4271ad826ba9",
   "metadata": {},
   "outputs": [],
   "source": [
    "import pynb_helpers.misc as misc\n",
    "\n",
    "misc.methods(type(current_wh))"
   ]
  },
  {
   "cell_type": "markdown",
   "id": "d1462534-f9b8-4dac-b27a-a88be7e04b0e",
   "metadata": {},
   "source": [
    "## Testing the webhook\n",
    "\n",
    "Before we proceed we want to [test](https://docs.up42.com/developers/api#operation/runWebhookTests) the webhook. We already know the name and signature of the function. Is named `trigger_test_events` and takes no arguments."
   ]
  },
  {
   "cell_type": "code",
   "execution_count": null,
   "id": "f6a13348-b8e2-4e9a-8fff-a2de87ec4c1e",
   "metadata": {},
   "outputs": [],
   "source": [
    "current_wh.trigger_test_events()"
   ]
  },
  {
   "cell_type": "code",
   "execution_count": null,
   "id": "a6a7abce-1594-462a-be33-c59defd7b8ec",
   "metadata": {},
   "outputs": [],
   "source": [
    "import pynb_helpers.misc as misc"
   ]
  },
  {
   "cell_type": "code",
   "execution_count": null,
   "id": "e5352d73-422e-42d4-9bb3-bc309ad8c226",
   "metadata": {},
   "outputs": [],
   "source": [
    "misc.methods(type(current_wh))"
   ]
  },
  {
   "cell_type": "markdown",
   "id": "dcbb3810-dba3-40e1-bafe-d5a3143264e8",
   "metadata": {},
   "source": [
    "## Updating the webhook to also notify us of orders\n",
    "\n",
    "We see that the current webhook only works for jobs.\n",
    "\n"
   ]
  },
  {
   "cell_type": "code",
   "execution_count": null,
   "id": "0fa057a6-2dec-44be-a802-028b39cf97b9",
   "metadata": {},
   "outputs": [],
   "source": [
    "current_wh.__dict__[\"_info\"][\"events\"]"
   ]
  },
  {
   "cell_type": "markdown",
   "id": "4366a91a-1e4d-41eb-96d2-6c6514906d97",
   "metadata": {},
   "source": [
    "We want to make it work also for orders so we need to update the webhook by adding the order status event. First let's see the available events."
   ]
  },
  {
   "cell_type": "code",
   "execution_count": null,
   "id": "35d275fb-5b56-4ad9-ae40-6366e6af4341",
   "metadata": {},
   "outputs": [],
   "source": [
    "up42.get_webhook_events()"
   ]
  },
  {
   "cell_type": "markdown",
   "id": "6699146f-1948-4340-be29-84a52701f062",
   "metadata": {},
   "source": [
    "So we need to add the `\"order.status\"` event to current webhook list of events while keeping all other parameters the same, except for the name that we also want to change to something more meaningful in our current context."
   ]
  },
  {
   "cell_type": "code",
   "execution_count": null,
   "id": "bdf14cc2-aa2e-49de-ab1e-a6e2cee56754",
   "metadata": {},
   "outputs": [],
   "source": [
    "current_wh.update(name=\"My webhook setup with ngrok\", \n",
    "                  url=current_wh.__dict__[\"_info\"][\"url\"],\n",
    "                  events=[\"job.status\", \"order.status\"],\n",
    "                  active=True, \n",
    "                  secret= current_wh.__dict__[\"_info\"][\"secret\"])"
   ]
  },
  {
   "cell_type": "markdown",
   "id": "8b1aa604-d73e-4629-ac9d-8a6ac4146bbf",
   "metadata": {},
   "source": [
    "Let us now see the list of events again."
   ]
  },
  {
   "cell_type": "code",
   "execution_count": null,
   "id": "3f48f1b0-e6b2-40c3-84ce-9e6544d15437",
   "metadata": {},
   "outputs": [],
   "source": [
    "current_wh.__dict__[\"_info\"][\"events\"]"
   ]
  },
  {
   "cell_type": "markdown",
   "id": "5b2504fe-7a0f-4862-89a2-c550d5b6af4c",
   "metadata": {},
   "source": [
    "Now we can test the webhook again and we should get also _simulated_ order status events."
   ]
  },
  {
   "cell_type": "code",
   "execution_count": null,
   "id": "e2c595e2-1f70-470f-8743-b105391b13d0",
   "metadata": {},
   "outputs": [],
   "source": [
    "current_wh.trigger_test_events()"
   ]
  },
  {
   "cell_type": "markdown",
   "id": "603b478e-3142-4635-b02a-5958a5b0a62a",
   "metadata": {},
   "source": [
    "We can see that we have now also order statuses related events."
   ]
  },
  {
   "cell_type": "markdown",
   "id": "2ea78765-1ccc-46ec-9a81-fd583fb706c4",
   "metadata": {},
   "source": [
    "## Going further\n",
    "\n",
    "Of course we could use any of the other additional methods: `update`, `delete`. Or even [create](https://sdk.up42.com/webhooks/#create-a-new-webhook) a new webhook. Of course the later is a method of the `up42` class."
   ]
  },
  {
   "cell_type": "code",
   "execution_count": null,
   "id": "6950314b-cf95-4d59-ac14-b0c2b96d944e",
   "metadata": {},
   "outputs": [],
   "source": []
  }
 ],
 "metadata": {
  "kernelspec": {
   "display_name": "Python 3",
   "language": "python",
   "name": "python3"
  },
  "language_info": {
   "codemirror_mode": {
    "name": "ipython",
    "version": 3
   },
   "file_extension": ".py",
   "mimetype": "text/x-python",
   "name": "python",
   "nbconvert_exporter": "python",
   "pygments_lexer": "ipython3",
   "version": "3.9.13"
  }
 },
 "nbformat": 4,
 "nbformat_minor": 5
}
